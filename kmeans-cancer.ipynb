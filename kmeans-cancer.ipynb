{
 "cells": [
  {
   "cell_type": "code",
   "execution_count": 18,
   "id": "306b559c-43f1-47d0-8857-2b26e9ad965c",
   "metadata": {
    "tags": []
   },
   "outputs": [],
   "source": [
    "from sklearn.cluster import KMeans\n",
    "from sklearn.model_selection import train_test_split\n",
    "from sklearn import preprocessing\n",
    "import pandas as pd\n",
    "import numpy as np"
   ]
  },
  {
   "cell_type": "code",
   "execution_count": 21,
   "id": "d99d7e4f-aa92-4631-8903-eebac21a8a49",
   "metadata": {
    "tags": []
   },
   "outputs": [],
   "source": [
    "df = pd.read_csv('final_data_only_tpm.csv')"
   ]
  },
  {
   "cell_type": "code",
   "execution_count": 22,
   "id": "064f246d-eaf2-41fa-9f82-e3f7605e4f2b",
   "metadata": {
    "tags": []
   },
   "outputs": [],
   "source": [
    "map = {\n",
    "    \"kidney chromophobe\": 0,\n",
    "    \"kidney renal clear cell carcinoma\": 1,\n",
    "    \"kidney renal papillary cell carcinoma\": 2\n",
    "}\n",
    "data = df.copy()\n",
    "data['cancer_type'] = data['cancer_type'].replace(map)\n",
    "X = data.drop(columns=['cancer_type'], axis=1)\n",
    "y = data['cancer_type']\n",
    "\n",
    "#X_train, X_test = train_test_split(X, test_size=0.2, random_state=42)\n",
    "#y_train, y_test = train_test_split(y, test_size=0.2, random_state=42)"
   ]
  },
  {
   "cell_type": "code",
   "execution_count": 23,
   "id": "4739e465-74d5-4e34-9233-c7804233bad2",
   "metadata": {
    "tags": []
   },
   "outputs": [],
   "source": [
    "X_train_norm = preprocessing.normalize(X)\n",
    "#X_test_norm = preprocessing.normalize(X_test)"
   ]
  },
  {
   "cell_type": "code",
   "execution_count": 43,
   "id": "467b2c4b-683d-4869-a609-8f53f7475490",
   "metadata": {
    "tags": []
   },
   "outputs": [],
   "source": [
    "kmeans = KMeans(n_clusters=3, n_init=\"auto\", random_state=42).fit(X=X_train_norm)"
   ]
  },
  {
   "cell_type": "code",
   "execution_count": 44,
   "id": "1c8ad08a-ff1c-4304-b2bb-574b3db12bec",
   "metadata": {
    "tags": []
   },
   "outputs": [
    {
     "name": "stdout",
     "output_type": "stream",
     "text": [
      "0       0\n",
      "1       0\n",
      "2       0\n",
      "3       0\n",
      "4       0\n",
      "       ..\n",
      "1023    2\n",
      "1024    2\n",
      "1025    2\n",
      "1026    2\n",
      "1027    2\n",
      "Name: cancer_type, Length: 1028, dtype: int64\n",
      "[2 2 2 ... 2 2 1]\n"
     ]
    }
   ],
   "source": [
    "y.to_numpy()\n",
    "print(y)\n",
    "print(kmeans.labels_)"
   ]
  },
  {
   "cell_type": "code",
   "execution_count": 45,
   "id": "6133cc2f-6377-4c8c-bb98-afd17c1a6fe7",
   "metadata": {
    "tags": []
   },
   "outputs": [
    {
     "name": "stdout",
     "output_type": "stream",
     "text": [
      "Number of wrong predictions: 642/1028\n"
     ]
    }
   ],
   "source": [
    "wrong_predictions = 0\n",
    "for i in range(len(kmeans.labels_)):\n",
    "    label = kmeans.labels_[i]\n",
    "    cancer_type = y[i]\n",
    "    if label != cancer_type:\n",
    "        wrong_predictions += 1\n",
    "        #print(\"kmeans predicted {0}, but it was {1}\".format(label, cancer_type))\n",
    "print(\"Number of wrong predictions: {0}/{1}\".format(wrong_predictions, len(kmeans.labels_)))"
   ]
  }
 ],
 "metadata": {
  "kernelspec": {
   "display_name": "Python 3 (ipykernel)",
   "language": "python",
   "name": "python3"
  },
  "language_info": {
   "codemirror_mode": {
    "name": "ipython",
    "version": 3
   },
   "file_extension": ".py",
   "mimetype": "text/x-python",
   "name": "python",
   "nbconvert_exporter": "python",
   "pygments_lexer": "ipython3",
   "version": "3.10.10"
  }
 },
 "nbformat": 4,
 "nbformat_minor": 5
}
