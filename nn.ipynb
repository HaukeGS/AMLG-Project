{
 "cells": [
  {
   "cell_type": "code",
   "execution_count": 88,
   "metadata": {},
   "outputs": [
    {
     "data": {
      "text/plain": [
       "\"\\n# Split the data into features (X) and target variable (y)\\n#X = data.drop('cancer_type', axis=1)\\n#y = data['cancer_type']\\n\\n# Split the data into training and validation sets\\n#train_dataset, test_dataset = train_test_split(data, test_size=0.2, random_state=42)\\n\\n\\n#train_dataloader = DataLoader(\\n#    dataset=train_dataset, batch_size=batch_size, shuffle=True\\n#)\\n#val_dataloader = DataLoader(dataset=test_dataset, batch_size=batch_size)\\n\""
      ]
     },
     "execution_count": 88,
     "metadata": {},
     "output_type": "execute_result"
    }
   ],
   "source": [
    "from sklearn.model_selection import train_test_split\n",
    "from sklearn.tree import DecisionTreeClassifier\n",
    "import pandas as pd\n",
    "# Load the data into a DataFrame\n",
    "#data_orig = pd.read_csv(filepath_or_buffer='final_data_only_tpm.csv')\n",
    "\n",
    "#data_pca = pd.read_csv(filepath_or_buffer='pca_data.csv')\n",
    "#data_pca.drop(data_pca.columns[0], axis=1, inplace=True)\n",
    "\"\"\"\n",
    "# Split the data into features (X) and target variable (y)\n",
    "#X = data.drop('cancer_type', axis=1)\n",
    "#y = data['cancer_type']\n",
    "\n",
    "# Split the data into training and validation sets\n",
    "#train_dataset, test_dataset = train_test_split(data, test_size=0.2, random_state=42)\n",
    "\n",
    "\n",
    "#train_dataloader = DataLoader(\n",
    "#    dataset=train_dataset, batch_size=batch_size, shuffle=True\n",
    "#)\n",
    "#val_dataloader = DataLoader(dataset=test_dataset, batch_size=batch_size)\n",
    "\"\"\"\n",
    "#data.head()"
   ]
  },
  {
   "cell_type": "code",
   "execution_count": 89,
   "metadata": {},
   "outputs": [
    {
     "data": {
      "text/html": [
       "<div>\n",
       "<style scoped>\n",
       "    .dataframe tbody tr th:only-of-type {\n",
       "        vertical-align: middle;\n",
       "    }\n",
       "\n",
       "    .dataframe tbody tr th {\n",
       "        vertical-align: top;\n",
       "    }\n",
       "\n",
       "    .dataframe thead th {\n",
       "        text-align: right;\n",
       "    }\n",
       "</style>\n",
       "<table border=\"1\" class=\"dataframe\">\n",
       "  <thead>\n",
       "    <tr style=\"text-align: right;\">\n",
       "      <th></th>\n",
       "      <th>TSPAN6</th>\n",
       "      <th>TNMD</th>\n",
       "      <th>DPM1</th>\n",
       "      <th>SCYL3</th>\n",
       "      <th>C1orf112</th>\n",
       "      <th>FGR</th>\n",
       "      <th>CFH</th>\n",
       "      <th>FUCA2</th>\n",
       "      <th>GCLC</th>\n",
       "      <th>NFYA</th>\n",
       "      <th>...</th>\n",
       "      <th>AC092910.4</th>\n",
       "      <th>AC073611.1</th>\n",
       "      <th>AC136977.1</th>\n",
       "      <th>AC078856.1</th>\n",
       "      <th>AC008763.4</th>\n",
       "      <th>AL592295.6</th>\n",
       "      <th>AC006486.3</th>\n",
       "      <th>AL391628.1</th>\n",
       "      <th>AP006621.6</th>\n",
       "      <th>cancer_type</th>\n",
       "    </tr>\n",
       "  </thead>\n",
       "  <tbody>\n",
       "    <tr>\n",
       "      <th>0</th>\n",
       "      <td>19.7011</td>\n",
       "      <td>0.1125</td>\n",
       "      <td>46.1397</td>\n",
       "      <td>1.8913</td>\n",
       "      <td>0.2670</td>\n",
       "      <td>18.6466</td>\n",
       "      <td>4.3945</td>\n",
       "      <td>24.1591</td>\n",
       "      <td>6.7242</td>\n",
       "      <td>9.4371</td>\n",
       "      <td>...</td>\n",
       "      <td>0.0</td>\n",
       "      <td>0.0641</td>\n",
       "      <td>0.0</td>\n",
       "      <td>1.0888</td>\n",
       "      <td>0.0</td>\n",
       "      <td>3.1977</td>\n",
       "      <td>0.0</td>\n",
       "      <td>0.0104</td>\n",
       "      <td>0.3953</td>\n",
       "      <td>0</td>\n",
       "    </tr>\n",
       "    <tr>\n",
       "      <th>1</th>\n",
       "      <td>31.6275</td>\n",
       "      <td>0.0000</td>\n",
       "      <td>45.5189</td>\n",
       "      <td>2.8743</td>\n",
       "      <td>0.4744</td>\n",
       "      <td>4.2348</td>\n",
       "      <td>1.4145</td>\n",
       "      <td>60.8153</td>\n",
       "      <td>15.4309</td>\n",
       "      <td>7.5267</td>\n",
       "      <td>...</td>\n",
       "      <td>0.0</td>\n",
       "      <td>0.0781</td>\n",
       "      <td>0.0</td>\n",
       "      <td>0.0000</td>\n",
       "      <td>0.0</td>\n",
       "      <td>15.4262</td>\n",
       "      <td>0.0</td>\n",
       "      <td>0.0042</td>\n",
       "      <td>0.4094</td>\n",
       "      <td>0</td>\n",
       "    </tr>\n",
       "    <tr>\n",
       "      <th>2</th>\n",
       "      <td>35.9928</td>\n",
       "      <td>0.5207</td>\n",
       "      <td>108.0270</td>\n",
       "      <td>4.8134</td>\n",
       "      <td>0.8010</td>\n",
       "      <td>4.5446</td>\n",
       "      <td>3.2850</td>\n",
       "      <td>33.1630</td>\n",
       "      <td>13.1085</td>\n",
       "      <td>12.1888</td>\n",
       "      <td>...</td>\n",
       "      <td>0.0</td>\n",
       "      <td>0.1049</td>\n",
       "      <td>0.0</td>\n",
       "      <td>0.0000</td>\n",
       "      <td>0.0</td>\n",
       "      <td>13.2312</td>\n",
       "      <td>0.0</td>\n",
       "      <td>0.1154</td>\n",
       "      <td>0.3050</td>\n",
       "      <td>0</td>\n",
       "    </tr>\n",
       "    <tr>\n",
       "      <th>3</th>\n",
       "      <td>18.2605</td>\n",
       "      <td>0.0921</td>\n",
       "      <td>27.5398</td>\n",
       "      <td>2.3258</td>\n",
       "      <td>0.3473</td>\n",
       "      <td>4.5023</td>\n",
       "      <td>1.5078</td>\n",
       "      <td>47.2006</td>\n",
       "      <td>10.6721</td>\n",
       "      <td>5.0657</td>\n",
       "      <td>...</td>\n",
       "      <td>0.0</td>\n",
       "      <td>0.1193</td>\n",
       "      <td>0.0</td>\n",
       "      <td>0.0000</td>\n",
       "      <td>0.0</td>\n",
       "      <td>6.4516</td>\n",
       "      <td>0.0</td>\n",
       "      <td>0.0141</td>\n",
       "      <td>0.1416</td>\n",
       "      <td>0</td>\n",
       "    </tr>\n",
       "    <tr>\n",
       "      <th>4</th>\n",
       "      <td>68.8052</td>\n",
       "      <td>3.4134</td>\n",
       "      <td>88.0619</td>\n",
       "      <td>6.2415</td>\n",
       "      <td>1.2251</td>\n",
       "      <td>9.5310</td>\n",
       "      <td>30.6990</td>\n",
       "      <td>66.3841</td>\n",
       "      <td>12.9370</td>\n",
       "      <td>20.1289</td>\n",
       "      <td>...</td>\n",
       "      <td>0.0</td>\n",
       "      <td>0.1141</td>\n",
       "      <td>0.0</td>\n",
       "      <td>0.0000</td>\n",
       "      <td>0.0</td>\n",
       "      <td>21.8857</td>\n",
       "      <td>0.0</td>\n",
       "      <td>0.0394</td>\n",
       "      <td>0.3547</td>\n",
       "      <td>0</td>\n",
       "    </tr>\n",
       "  </tbody>\n",
       "</table>\n",
       "<p>5 rows × 60661 columns</p>\n",
       "</div>"
      ],
      "text/plain": [
       "    TSPAN6    TNMD      DPM1   SCYL3  C1orf112      FGR      CFH    FUCA2  \\\n",
       "0  19.7011  0.1125   46.1397  1.8913    0.2670  18.6466   4.3945  24.1591   \n",
       "1  31.6275  0.0000   45.5189  2.8743    0.4744   4.2348   1.4145  60.8153   \n",
       "2  35.9928  0.5207  108.0270  4.8134    0.8010   4.5446   3.2850  33.1630   \n",
       "3  18.2605  0.0921   27.5398  2.3258    0.3473   4.5023   1.5078  47.2006   \n",
       "4  68.8052  3.4134   88.0619  6.2415    1.2251   9.5310  30.6990  66.3841   \n",
       "\n",
       "      GCLC     NFYA  ...  AC092910.4  AC073611.1  AC136977.1  AC078856.1  \\\n",
       "0   6.7242   9.4371  ...         0.0      0.0641         0.0      1.0888   \n",
       "1  15.4309   7.5267  ...         0.0      0.0781         0.0      0.0000   \n",
       "2  13.1085  12.1888  ...         0.0      0.1049         0.0      0.0000   \n",
       "3  10.6721   5.0657  ...         0.0      0.1193         0.0      0.0000   \n",
       "4  12.9370  20.1289  ...         0.0      0.1141         0.0      0.0000   \n",
       "\n",
       "   AC008763.4  AL592295.6  AC006486.3  AL391628.1  AP006621.6  cancer_type  \n",
       "0         0.0      3.1977         0.0      0.0104      0.3953            0  \n",
       "1         0.0     15.4262         0.0      0.0042      0.4094            0  \n",
       "2         0.0     13.2312         0.0      0.1154      0.3050            0  \n",
       "3         0.0      6.4516         0.0      0.0141      0.1416            0  \n",
       "4         0.0     21.8857         0.0      0.0394      0.3547            0  \n",
       "\n",
       "[5 rows x 60661 columns]"
      ]
     },
     "execution_count": 89,
     "metadata": {},
     "output_type": "execute_result"
    }
   ],
   "source": [
    "# Split the data into training and validation sets\n",
    "import torch\n",
    "# Split the data into features (X) and target variable (y)\n",
    "\n",
    "data = data_orig\n",
    "\n",
    "map = {\n",
    "    \"kidney chromophobe\": 0,\n",
    "    \"kidney renal papillary cell carcinoma\": 1,\n",
    "    \"kidney renal clear cell carcinoma\": 2,\n",
    "}\n",
    "\n",
    "data1 = data.copy()\n",
    "data1['cancer_type'] = data1['cancer_type'].replace(map)\n",
    "\n",
    "X = data1.drop('cancer_type', axis=1)\n",
    "y = data1['cancer_type']\n",
    "\n",
    "X_train, X_test, y_train, y_test = train_test_split(X, y, test_size=0.2) #, random_state=42)\n",
    "\n",
    "X_train_tens = torch.tensor(X_train.values).float()\n",
    "X_test_tens = torch.tensor(X_test.values).float()\n",
    "y_train_tens = torch.tensor(y_train.values)\n",
    "y_test_tens = torch.tensor(y_test.values)\n",
    "\n",
    "data1.head()"
   ]
  },
  {
   "cell_type": "code",
   "execution_count": 104,
   "metadata": {},
   "outputs": [],
   "source": [
    "import torch.utils.data\n",
    "import torch.nn as nn\n",
    "from torch.utils.data import DataLoader\n",
    "\n",
    "# Build model\n",
    "class MultiClassificationModel(nn.Module):\n",
    "    def __init__(self, input_features, output_features, hidden_units=8):\n",
    "        \"\"\"Initializes all required hyperparameters for a multi-class classification model.\n",
    "\n",
    "        Args:\n",
    "            input_features (int): Number of input features to the model.\n",
    "            out_features (int): Number of output features of the model\n",
    "              (how many classes there are).\n",
    "            hidden_units (int): Number of hidden units between layers, default 8.\n",
    "        \"\"\"\n",
    "        super().__init__()\n",
    "\n",
    "        \"\"\" n_input_channels = 3  # i.e., length of our OHE scheme\n",
    "        n_filters = 32  # i.e., no. of kernels\n",
    "        kernel_size = 3\n",
    "        conv_out_len = output_features - kernel_size + 1\n",
    "        self.net = nn.Sequential(\n",
    "            nn.Conv1d(\n",
    "                in_channels=n_input_channels,\n",
    "                out_channels=n_filters,\n",
    "                kernel_size=kernel_size,\n",
    "            ),\n",
    "            nn.ReLU(inplace=True),\n",
    "            nn.Flatten(),\n",
    "            nn.Linear(in_features=n_filters * conv_out_len, out_features=1),\n",
    "        ) # sizes don't add up.. \"Given groups=1, weight of size [32, 3, 3], expected input[1, 822, 60660] to have 3 channels, but got 822 channels instead\" \"\"\"\n",
    "\n",
    "        self.bens_layer_stack = nn.Sequential(\n",
    "            nn.Linear(in_features=input_features, out_features=hidden_units),\n",
    "            nn.ReLU(),\n",
    "            nn.Linear(in_features=hidden_units, out_features=output_features),\n",
    "            nn.Softmax(dim=1),\n",
    "            nn.Dropout(0.5)\n",
    "        )\n",
    "\n",
    "        self.linear_layer_stack = nn.Sequential(\n",
    "            nn.Linear(in_features=input_features, out_features=hidden_units),\n",
    "            nn.ReLU(), # <- does our dataset require non-linear layers? (try uncommenting and see if the results change)\n",
    "            #nn.Sigmoid(),\n",
    "            #nn.Linear(in_features=hidden_units, out_features=hidden_units),\n",
    "            nn.ReLU(), # <- does our dataset require non-linear layers? (try uncommenting and see if the results change)\n",
    "            nn.Linear(in_features=hidden_units, out_features=output_features), # how many classes are there?\n",
    "            #nn.Softmax(dim=1)\n",
    "        )\n",
    "    \n",
    "    def forward(self, x):\n",
    "        return self.linear_layer_stack(x)\n",
    "\n"
   ]
  },
  {
   "cell_type": "code",
   "execution_count": 105,
   "metadata": {},
   "outputs": [
    {
     "name": "stdout",
     "output_type": "stream",
     "text": [
      "60660\n"
     ]
    },
    {
     "data": {
      "text/plain": [
       "MultiClassificationModel(\n",
       "  (bens_layer_stack): Sequential(\n",
       "    (0): Linear(in_features=60660, out_features=8, bias=True)\n",
       "    (1): ReLU()\n",
       "    (2): Linear(in_features=8, out_features=3, bias=True)\n",
       "    (3): Softmax(dim=1)\n",
       "    (4): Dropout(p=0.5, inplace=False)\n",
       "  )\n",
       "  (linear_layer_stack): Sequential(\n",
       "    (0): Linear(in_features=60660, out_features=8, bias=True)\n",
       "    (1): ReLU()\n",
       "    (2): ReLU()\n",
       "    (3): Linear(in_features=8, out_features=3, bias=True)\n",
       "  )\n",
       ")"
      ]
     },
     "execution_count": 105,
     "metadata": {},
     "output_type": "execute_result"
    }
   ],
   "source": [
    "NUM_FEATURES = X.shape[1] #1028 #60660\n",
    "print(NUM_FEATURES)\n",
    "NUM_CLASSES = 3\n",
    "device = \"cpu\"\n",
    "\n",
    "# Create an instance of BlobModel and send it to the target device\n",
    "model = MultiClassificationModel(input_features=NUM_FEATURES, \n",
    "                    output_features=NUM_CLASSES).to(device)\n",
    "model"
   ]
  },
  {
   "cell_type": "code",
   "execution_count": 106,
   "metadata": {},
   "outputs": [],
   "source": [
    "LR = 0.0005\n",
    "\n",
    "# Create loss and optimizer\n",
    "loss_fn = nn.CrossEntropyLoss()\n",
    "optimizer = torch.optim.SGD(model.parameters(), \n",
    "                            lr=LR) # exercise: try changing the learning rate here and seeing what happens to the model"
   ]
  },
  {
   "cell_type": "code",
   "execution_count": 107,
   "metadata": {},
   "outputs": [
    {
     "data": {
      "text/plain": [
       "tensor([[-202.7336,   -2.9887,   -0.8178],\n",
       "        [-279.4873,  -16.6191,   19.7937],\n",
       "        [-102.8949,   48.5136,  -46.6255],\n",
       "        [-221.0672,   22.8827,   25.5104],\n",
       "        [-346.9634,  -47.0106,   -9.7404]], grad_fn=<SliceBackward0>)"
      ]
     },
     "execution_count": 107,
     "metadata": {},
     "output_type": "execute_result"
    }
   ],
   "source": [
    "# Perform a single forward pass on the data (we'll need to put it to the target device for it to work)\n",
    "model(X_train_tens.to(device))[:5]"
   ]
  },
  {
   "cell_type": "code",
   "execution_count": 108,
   "metadata": {},
   "outputs": [
    {
     "data": {
      "text/plain": [
       "(torch.Size([3]), 3)"
      ]
     },
     "execution_count": 108,
     "metadata": {},
     "output_type": "execute_result"
    }
   ],
   "source": [
    "model(X_train_tens.to(device))[0].shape, NUM_CLASSES "
   ]
  },
  {
   "cell_type": "code",
   "execution_count": 109,
   "metadata": {},
   "outputs": [
    {
     "name": "stdout",
     "output_type": "stream",
     "text": [
      "tensor([[-135.9156,   33.8904,   -1.1670],\n",
      "        [-259.8529,  -21.4767,   -4.6599],\n",
      "        [-202.6197,   81.2833, -132.3384],\n",
      "        [-160.1348,   87.0007,  -49.0385],\n",
      "        [-137.1934,   23.7253,  -43.0880]], grad_fn=<SliceBackward0>)\n",
      "tensor([[0.0000e+00, 1.0000e+00, 5.9534e-16],\n",
      "        [0.0000e+00, 4.9725e-08, 1.0000e+00],\n",
      "        [0.0000e+00, 1.0000e+00, 0.0000e+00],\n",
      "        [0.0000e+00, 1.0000e+00, 0.0000e+00],\n",
      "        [0.0000e+00, 1.0000e+00, 9.6236e-30]], grad_fn=<SliceBackward0>)\n"
     ]
    }
   ],
   "source": [
    "# Make prediction logits with model\n",
    "y_logits = model(X_test_tens.to(device))\n",
    "\n",
    "# Perform softmax calculation on logits across dimension 1 to get prediction probabilities\n",
    "y_pred_probs = torch.softmax(y_logits, dim=1) \n",
    "print(y_logits[:5])\n",
    "print(y_pred_probs[:5])"
   ]
  },
  {
   "cell_type": "code",
   "execution_count": 110,
   "metadata": {},
   "outputs": [
    {
     "data": {
      "text/plain": [
       "tensor(1., grad_fn=<SumBackward0>)"
      ]
     },
     "execution_count": 110,
     "metadata": {},
     "output_type": "execute_result"
    }
   ],
   "source": [
    "# Sum the first sample output of the softmax activation function \n",
    "torch.sum(y_pred_probs[0])"
   ]
  },
  {
   "cell_type": "code",
   "execution_count": 111,
   "metadata": {},
   "outputs": [
    {
     "name": "stdout",
     "output_type": "stream",
     "text": [
      "tensor([0.0000e+00, 1.0000e+00, 5.9534e-16], grad_fn=<SelectBackward0>)\n",
      "tensor(1)\n"
     ]
    }
   ],
   "source": [
    "# Which class does the model think is *most* likely at the index 0 sample?\n",
    "print(y_pred_probs[0])\n",
    "print(torch.argmax(y_pred_probs[0]))"
   ]
  },
  {
   "cell_type": "code",
   "execution_count": 115,
   "metadata": {},
   "outputs": [],
   "source": [
    "# Calculate accuracy (a classification metric)\n",
    "def accuracy_fn_alt(y_true, y_logits):\n",
    "    y_pred = torch.softmax(y_logits, dim=1).argmax(dim=1)\n",
    "    correct = torch.eq(y_true, y_pred).sum().item() # torch.eq() calculates where two tensors are equal\n",
    "    acc = (correct / len(y_pred)) * 100 \n",
    "    return acc\n",
    "\n",
    "def accuracy_fn_neu(y_true, y_logits):\n",
    "    _, predicted = torch.max(y_logits, 1)# go from logits -> prediction probabilities -> prediction labels\n",
    "    correct = (predicted == y_true).sum().item()\n",
    "    accuracy = correct / y_true.size(0)\n",
    "    return accuracy * 100\n",
    "\n",
    "accuracy_fn = accuracy_fn_neu"
   ]
  },
  {
   "cell_type": "code",
   "execution_count": 118,
   "metadata": {},
   "outputs": [
    {
     "name": "stdout",
     "output_type": "stream",
     "text": [
      "Epoch: 0 | Loss: 1.16850, Acc: 31.27% | Test Loss: 2.36463, Test Acc: 36.41%\n",
      "Epoch: 10 | Loss: 1.16758, Acc: 31.27% | Test Loss: 2.36392, Test Acc: 36.41%\n",
      "Epoch: 20 | Loss: 1.16667, Acc: 31.27% | Test Loss: 2.36321, Test Acc: 36.41%\n",
      "Epoch: 30 | Loss: 1.16576, Acc: 31.27% | Test Loss: 2.36250, Test Acc: 36.41%\n",
      "Epoch: 40 | Loss: 1.16485, Acc: 31.27% | Test Loss: 2.36179, Test Acc: 36.41%\n",
      "Epoch: 50 | Loss: 1.16394, Acc: 31.27% | Test Loss: 2.36108, Test Acc: 36.41%\n",
      "Epoch: 60 | Loss: 1.16304, Acc: 31.27% | Test Loss: 2.36038, Test Acc: 36.41%\n",
      "Epoch: 70 | Loss: 1.16214, Acc: 31.27% | Test Loss: 2.35968, Test Acc: 36.41%\n",
      "Epoch: 80 | Loss: 1.16124, Acc: 31.27% | Test Loss: 2.35897, Test Acc: 36.41%\n",
      "Epoch: 90 | Loss: 1.16034, Acc: 31.27% | Test Loss: 2.35827, Test Acc: 36.41%\n"
     ]
    }
   ],
   "source": [
    "# Fit the model\n",
    "#torch.manual_seed(42)\n",
    "\n",
    "# Set number of epochs\n",
    "epochs = 100\n",
    "\n",
    "# Initialize lists to store training and test metrics\n",
    "train_losses = []\n",
    "test_losses = []\n",
    "train_accuracies = []\n",
    "test_accuracies = []\n",
    "\n",
    "# Put data to target device\n",
    "X_train_tens, y_train_tens = X_train_tens.to(device), y_train_tens.to(device)\n",
    "X_test_tens, y_test_tens = X_test_tens.to(device), y_test_tens.to(device)\n",
    "\n",
    "for epoch in range(epochs):\n",
    "    ### Training\n",
    "    model.train()\n",
    "\n",
    "    # 1. Forward pass\n",
    "    y_logits = model(X_train_tens) # model outputs raw logits \n",
    "    # print(y_logits)\n",
    "    # 2. Calculate loss and accuracy\n",
    "    loss = loss_fn(y_logits, y_train_tens) \n",
    "\n",
    "    # Acc\n",
    "    train_acc = accuracy_fn(y_true=y_train_tens, y_logits=y_logits)\n",
    "\n",
    "    # 3. Optimizer zero grad\n",
    "    optimizer.zero_grad()\n",
    "\n",
    "    # 4. Loss backwards\n",
    "    loss.backward()\n",
    "\n",
    "    # 5. Optimizer step\n",
    "    optimizer.step()\n",
    "\n",
    "    ### Testing\n",
    "    model.eval()\n",
    "    with torch.inference_mode():\n",
    "      # 1. Forward pass\n",
    "      test_logits = model(X_test_tens)\n",
    "      # 2. Calculate test loss and accuracy\n",
    "      test_loss = loss_fn(test_logits, y_test_tens)\n",
    "      test_acc = accuracy_fn(y_true=y_test_tens, y_logits=test_logits)\n",
    "\n",
    "      # Log metrics\n",
    "      train_losses.append(loss.item())\n",
    "      test_losses.append(test_loss.item())\n",
    "      train_accuracies.append(train_acc)\n",
    "      test_accuracies.append(test_acc)\n",
    "\n",
    "    # Print out what's happening\n",
    "    if epoch % 10 == 0:\n",
    "        print(f\"Epoch: {epoch} | Loss: {loss:.5f}, Acc: {train_acc:.2f}% | Test Loss: {test_loss:.5f}, Test Acc: {test_acc:.2f}%\") "
   ]
  },
  {
   "cell_type": "code",
   "execution_count": 120,
   "metadata": {},
   "outputs": [
    {
     "data": {
      "image/png": "[encoded data removed]",
      "text/plain": [
       "<Figure size 1200x400 with 2 Axes>"
      ]
     },
     "metadata": {},
     "output_type": "display_data"
    },
    {
     "name": "stdout",
     "output_type": "stream",
     "text": [
      "Training complete!\n"
     ]
    }
   ],
   "source": [
    "\n",
    "from matplotlib import pyplot as plt\n",
    "\n",
    "plt.figure(figsize=(12, 4))\n",
    "\n",
    "# Plot Loss Curves\n",
    "plt.subplot(1, 2, 1)\n",
    "plt.plot(range(1, epochs + 1), train_losses, label='Training Loss')\n",
    "plt.plot(range(1, epochs + 1), test_losses, label='Test Loss')\n",
    "plt.xlabel('Epoch')\n",
    "plt.ylabel('Loss')\n",
    "plt.legend()\n",
    "plt.title('Training and Test Loss Curves')\n",
    "\n",
    "# Plot Accuracy Curves\n",
    "plt.subplot(1, 2, 2)\n",
    "plt.plot(range(1, epochs + 1), train_accuracies, label='Training Accuracy')\n",
    "plt.plot(range(1, epochs + 1), test_accuracies, label='Test Accuracy')\n",
    "plt.xlabel('Epoch')\n",
    "plt.ylabel('Accuracy')\n",
    "plt.legend()\n",
    "plt.title('Training and Test Accuracy Curves')\n",
    "\n",
    "plt.tight_layout()\n",
    "plt.show()\n",
    "\n",
    "print(\"Training complete!\")"
   ]
  },
  {
   "cell_type": "code",
   "execution_count": null,
   "metadata": {},
   "outputs": [],
   "source": []
  }
 ],
 "metadata": {
  "kernelspec": {
   "display_name": "iML",
   "language": "python",
   "name": "python3"
  },
  "language_info": {
   "codemirror_mode": {
    "name": "ipython",
    "version": 3
   },
   "file_extension": ".py",
   "mimetype": "text/x-python",
   "name": "python",
   "nbconvert_exporter": "python",
   "pygments_lexer": "ipython3",
   "version": "3.9.18"
  }
 },
 "nbformat": 4,
 "nbformat_minor": 2
}
